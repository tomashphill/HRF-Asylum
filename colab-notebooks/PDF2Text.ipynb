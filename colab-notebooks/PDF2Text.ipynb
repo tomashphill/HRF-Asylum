{
  "nbformat": 4,
  "nbformat_minor": 0,
  "metadata": {
    "colab": {
      "name": "PDF2Text.ipynb",
      "provenance": [],
      "collapsed_sections": []
    },
    "kernelspec": {
      "name": "python3",
      "display_name": "Python 3"
    }
  },
  "cells": [
    {
      "cell_type": "markdown",
      "metadata": {
        "id": "xZ4pCuLv6_OM"
      },
      "source": [
        "### DEPENDENCIES:\n",
        "\n",
        "• pdf2image  \n",
        "    `converts each page in a pdf file into a jpeg image`\n",
        "\n",
        "• pytesseract  \n",
        "    `converts the jpeg images into text`"
      ]
    },
    {
      "cell_type": "code",
      "metadata": {
        "id": "BV_69zzv2woS"
      },
      "source": [
        "%%capture\n",
        "!sudo apt-get install tesseract-ocr\n",
        "!sudo apt-get install poppler-utils --fix-missing\n",
        "!pip install pytesseract\n",
        "!pip install pdf2image"
      ],
      "execution_count": null,
      "outputs": []
    },
    {
      "cell_type": "code",
      "metadata": {
        "colab": {
          "base_uri": "https://localhost:8080/"
        },
        "id": "_1LMVGiaCDTj",
        "outputId": "61e4cd39-060c-4b6e-e0fa-585f7797c195"
      },
      "source": [
        "from typing import List, Tuple\n",
        "import pytesseract \n",
        "from pdf2image import convert_from_path \n",
        "import os\n",
        "\n",
        "from google.colab import drive\n",
        "drive.mount('/content/drive')"
      ],
      "execution_count": null,
      "outputs": [
        {
          "output_type": "stream",
          "text": [
            "Mounted at /content/drive\n"
          ],
          "name": "stdout"
        }
      ]
    },
    {
      "cell_type": "markdown",
      "metadata": {
        "id": "LM3Y_uBp70x2"
      },
      "source": [
        "• This code uses google drive in order to host the files. If using a different file structure, set your own paths variables `PDF_DIR` and `TXT_DIR`"
      ]
    },
    {
      "cell_type": "code",
      "metadata": {
        "id": "lp1_3Qxp7BKW"
      },
      "source": [
        "# Location of PDFs in Google Drive\n",
        "PDF_DIR: str = \"./drive/MyDrive/PDFs\"\n",
        "# Location of .txt files in Google Drive\n",
        "TXT_DIR: str = \"./drive/MyDrive/PDFtxts\"\n",
        "# List of PDF file names"
      ],
      "execution_count": null,
      "outputs": []
    },
    {
      "cell_type": "code",
      "metadata": {
        "colab": {
          "base_uri": "https://localhost:8080/",
          "height": 35
        },
        "id": "KEhAv3bXPEqd",
        "outputId": "1793ee76-cfdb-4278-af6e-32cdb3241f66"
      },
      "source": [
        "pdf_files = os.listdir(PDF_DIR)\n",
        "# Example of how to construct path with\n",
        "PDF_DIR + '/' + pdf_files[0]"
      ],
      "execution_count": null,
      "outputs": [
        {
          "output_type": "execute_result",
          "data": {
            "application/vnd.google.colaboratory.intrinsic+json": {
              "type": "string"
            },
            "text/plain": [
              "'./drive/MyDrive/PDFs/140630293-Jose-Javier-Linares-Valencia-A059-170-269-BIA-Aug-23-2012.pdf'"
            ]
          },
          "metadata": {
            "tags": []
          },
          "execution_count": 5
        }
      ]
    },
    {
      "cell_type": "code",
      "metadata": {
        "id": "NCo4fsf0L_Zo"
      },
      "source": [
        "def convert_pdf_to_text(pdf_file: str, pdf_dir=PDF_DIR) -> str:\n",
        "    '''\n",
        "    Converts PDF to JPEG and uses Tesseract to convert JEPG to text. \n",
        "    '''\n",
        "    # Assemble path to PDF files\n",
        "    path_to = lambda file: pdf_dir + '/' + file \n",
        "    # Convert pages to list of JPEGS\n",
        "    pages = convert_from_path(path_to(pdf_file))\n",
        "    # Convert JPEGS into list of strings\n",
        "    pages_text: List[str] = [pytesseract.image_to_string(p) for p in pages]\n",
        "    del pages\n",
        "\n",
        "    return ''.join(pages_text)\n",
        "\n",
        "\n",
        "def pdf_text_filename(pdf_file: str) -> str:\n",
        "    '''\n",
        "    Replace \"*.pdf\" with \"*.txt\".\n",
        "    '''\n",
        "    return pdf_file[:-3] + \"txt\""
      ],
      "execution_count": null,
      "outputs": []
    },
    {
      "cell_type": "code",
      "metadata": {
        "id": "hU7h-F2CQKuy"
      },
      "source": [
        "def convert_and_save_all(pdf_files: List[str], \n",
        "                         pdf_dir=PDF_DIR, \n",
        "                         txt_dir=TXT_DIR) -> None:\n",
        "    '''\n",
        "    Given a list of pdf files in a directory, this func will convert all\n",
        "    into text files.\n",
        "    '''\n",
        "    txt_files: List[str] = os.listdir(txt_dir)\n",
        "\n",
        "    # List of (*.pdf, *.txt)\n",
        "    translated_file_names: List[Tuple[str, str]] = [\n",
        "        (pdf, pdf_text_filename(pdf)) for pdf in pdf_files \n",
        "                                      if pdf[-3:] == \"pdf\"\n",
        "    ]\n",
        "    # Filtered list of (*.pdf, *.txt) for unconverted PDFs\n",
        "    not_converted: List[Tuple[str, str]] = list(filter(\n",
        "        lambda f: f[1] not in txt_files,\n",
        "        translated_file_names\n",
        "    ))\n",
        "    print(\n",
        "        f\"{ len(not_converted) } \"\n",
        "        f\"out of {len(translated_file_names)} PDF files to convert.\"\n",
        "    )\n",
        "\n",
        "    num_to_convert = len(not_converted)\n",
        "    num_converted = 0\n",
        "\n",
        "    # Assemble path to location of saved .txt file\n",
        "    path_to = lambda file: txt_dir + '/' + file\n",
        "\n",
        "    for pdf, txt_fname in not_converted:\n",
        "        # Print progress\n",
        "        if num_converted % 50 == 0:\n",
        "            print(f\"{ round(num_converted/num_to_convert*100) }% converted...\")\n",
        "\n",
        "        text = convert_pdf_to_text(pdf, pdf_dir)\n",
        "        f = open(path_to(txt_fname), 'w')\n",
        "        f.write(text)\n",
        "        f.close()\n",
        "        # inc num converted\n",
        "        num_converted += 1\n",
        "\n",
        "    print(\"Finished!\")"
      ],
      "execution_count": null,
      "outputs": []
    },
    {
      "cell_type": "code",
      "metadata": {
        "colab": {
          "base_uri": "https://localhost:8080/"
        },
        "id": "3TeIQQ8tZ01o",
        "outputId": "ae3836a8-6926-4c53-f757-8535546b719a"
      },
      "source": [
        "pdf_files: List[str] = os.listdir(PDF_DIR)\n",
        "convert_and_save_all(pdf_files)"
      ],
      "execution_count": null,
      "outputs": [
        {
          "output_type": "stream",
          "text": [
            "0 out of 1502 PDF files to convert.\n",
            "Finished!\n"
          ],
          "name": "stdout"
        }
      ]
    },
    {
      "cell_type": "code",
      "metadata": {
        "colab": {
          "base_uri": "https://localhost:8080/"
        },
        "id": "Za5odT_9AYyd",
        "outputId": "46dc1953-645d-4296-f5e5-9a8f16952a68"
      },
      "source": [
        "sum([1 for u in pdf_files if '2019' in u])"
      ],
      "execution_count": null,
      "outputs": [
        {
          "output_type": "execute_result",
          "data": {
            "text/plain": [
              "272"
            ]
          },
          "metadata": {
            "tags": []
          },
          "execution_count": 10
        }
      ]
    }
  ]
}